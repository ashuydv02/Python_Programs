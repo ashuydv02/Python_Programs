{
 "cells": [
  {
   "cell_type": "markdown",
   "metadata": {},
   "source": [
    "# Pandas in python"
   ]
  },
  {
   "cell_type": "markdown",
   "metadata": {},
   "source": [
    "Pandas is used in data science for cleaning the data, analysing data, manipulating the data,etc"
   ]
  },
  {
   "cell_type": "code",
   "execution_count": 1,
   "metadata": {},
   "outputs": [
    {
     "data": {
      "text/plain": [
       "'2.0.3'"
      ]
     },
     "execution_count": 1,
     "metadata": {},
     "output_type": "execute_result"
    }
   ],
   "source": [
    "import pandas as pd\n",
    "pd.__version__"
   ]
  },
  {
   "cell_type": "markdown",
   "metadata": {},
   "source": [
    "# DataFrame"
   ]
  },
  {
   "cell_type": "markdown",
   "metadata": {},
   "source": [
    "A Pandas DataFrame is a 2 dimensional data structure, like a 2 dimensional array, or a table with rows and columns."
   ]
  },
  {
   "cell_type": "code",
   "execution_count": 2,
   "metadata": {},
   "outputs": [
    {
     "data": {
      "text/html": [
       "<div>\n",
       "<style scoped>\n",
       "    .dataframe tbody tr th:only-of-type {\n",
       "        vertical-align: middle;\n",
       "    }\n",
       "\n",
       "    .dataframe tbody tr th {\n",
       "        vertical-align: top;\n",
       "    }\n",
       "\n",
       "    .dataframe thead th {\n",
       "        text-align: right;\n",
       "    }\n",
       "</style>\n",
       "<table border=\"1\" class=\"dataframe\">\n",
       "  <thead>\n",
       "    <tr style=\"text-align: right;\">\n",
       "      <th></th>\n",
       "      <th>car</th>\n",
       "      <th>YoM</th>\n",
       "      <th>Top Speed</th>\n",
       "    </tr>\n",
       "  </thead>\n",
       "  <tbody>\n",
       "    <tr>\n",
       "      <th>0</th>\n",
       "      <td>Baleno</td>\n",
       "      <td>2017</td>\n",
       "      <td>150</td>\n",
       "    </tr>\n",
       "    <tr>\n",
       "      <th>1</th>\n",
       "      <td>Swift</td>\n",
       "      <td>2015</td>\n",
       "      <td>200</td>\n",
       "    </tr>\n",
       "    <tr>\n",
       "      <th>2</th>\n",
       "      <td>Harrier</td>\n",
       "      <td>2020</td>\n",
       "      <td>200</td>\n",
       "    </tr>\n",
       "    <tr>\n",
       "      <th>3</th>\n",
       "      <td>Punch</td>\n",
       "      <td>2022</td>\n",
       "      <td>250</td>\n",
       "    </tr>\n",
       "    <tr>\n",
       "      <th>4</th>\n",
       "      <td>Fortuner</td>\n",
       "      <td>2018</td>\n",
       "      <td>250</td>\n",
       "    </tr>\n",
       "  </tbody>\n",
       "</table>\n",
       "</div>"
      ],
      "text/plain": [
       "        car   YoM  Top Speed\n",
       "0    Baleno  2017        150\n",
       "1     Swift  2015        200\n",
       "2   Harrier  2020        200\n",
       "3     Punch  2022        250\n",
       "4  Fortuner  2018        250"
      ]
     },
     "execution_count": 2,
     "metadata": {},
     "output_type": "execute_result"
    }
   ],
   "source": [
    "dataset = {\n",
    "    'car' : ['Baleno', 'Swift', 'Harrier', 'Punch', 'Fortuner'],\n",
    "    'YoM' : [2017, 2015, 2020, 2022, 2018],\n",
    "    'Top Speed' : [150, 200, 200, 250, 250]\n",
    "}\n",
    "myvar = pd.DataFrame(dataset, index=['Car1', 'Car2', 'Car3', 'Car4', 'Car5'])\n",
    "pd.DataFrame(dataset)"
   ]
  },
  {
   "cell_type": "code",
   "execution_count": 3,
   "metadata": {},
   "outputs": [
    {
     "name": "stdout",
     "output_type": "stream",
     "text": [
      "car          Swift\n",
      "YoM           2015\n",
      "Top Speed      200\n",
      "Name: Car2, dtype: object\n"
     ]
    }
   ],
   "source": [
    "print(myvar.loc['Car2'])"
   ]
  },
  {
   "cell_type": "code",
   "execution_count": 4,
   "metadata": {},
   "outputs": [
    {
     "name": "stdout",
     "output_type": "stream",
     "text": [
      "          car   YoM  Top Speed\n",
      "Car1   Baleno  2017        150\n",
      "Car3  Harrier  2020        200\n"
     ]
    }
   ],
   "source": [
    "print(myvar.loc[['Car1', 'Car3']])"
   ]
  },
  {
   "cell_type": "markdown",
   "metadata": {},
   "source": [
    "# Series"
   ]
  },
  {
   "cell_type": "markdown",
   "metadata": {},
   "source": [
    "A Pandas Series is like a column in a table.\n",
    "It is a one-dimensional array holding data of any type."
   ]
  },
  {
   "cell_type": "code",
   "execution_count": 5,
   "metadata": {},
   "outputs": [
    {
     "data": {
      "text/plain": [
       "a    9\n",
       "b    8\n",
       "c    7\n",
       "d    6\n",
       "e    5\n",
       "dtype: int64"
      ]
     },
     "execution_count": 5,
     "metadata": {},
     "output_type": "execute_result"
    }
   ],
   "source": [
    "a = [9, 8, 7, 6, 5]\n",
    "pd.Series(a, index=['a', 'b','c', 'd', 'e'])"
   ]
  },
  {
   "cell_type": "code",
   "execution_count": 6,
   "metadata": {},
   "outputs": [
    {
     "data": {
      "text/plain": [
       "1       Sunday\n",
       "2       Monday\n",
       "3      Tuesday\n",
       "4    Wednesday\n",
       "5     Thursday\n",
       "6       Friday\n",
       "7     Saturday\n",
       "dtype: object"
      ]
     },
     "execution_count": 6,
     "metadata": {},
     "output_type": "execute_result"
    }
   ],
   "source": [
    "days = {1 : 'Sunday', 2 : 'Monday', 3 : 'Tuesday', 4 : 'Wednesday', 5 : 'Thursday', 6 : 'Friday', 7 : 'Saturday'}\n",
    "pd.Series(days)"
   ]
  },
  {
   "cell_type": "code",
   "execution_count": 7,
   "metadata": {},
   "outputs": [
    {
     "data": {
      "text/plain": [
       "2       Monday\n",
       "3      Tuesday\n",
       "4    Wednesday\n",
       "5     Thursday\n",
       "6       Friday\n",
       "dtype: object"
      ]
     },
     "execution_count": 7,
     "metadata": {},
     "output_type": "execute_result"
    }
   ],
   "source": [
    "pd.Series(days, index=[2, 3, 4, 5, 6])"
   ]
  },
  {
   "cell_type": "markdown",
   "metadata": {},
   "source": [
    "# Pandas Read CSV"
   ]
  },
  {
   "cell_type": "markdown",
   "metadata": {},
   "source": [
    "A simple way to store big data sets is to use CSV files (comma separated files)."
   ]
  },
  {
   "cell_type": "code",
   "execution_count": 8,
   "metadata": {},
   "outputs": [
    {
     "name": "stdout",
     "output_type": "stream",
     "text": [
      "   Sno.          Name   Age   Salary       DoB\n",
      "0     1  Ashish Yadav  22.0  15000.0  26/04/02\n",
      "1     2          Anil  23.0  10000.0  20/02/02\n",
      "2     3         Aswan  21.0  20000.0  27/05/02\n",
      "3     4       Harshit   NaN  15000.0       NaN\n",
      "4     5       Sandeep  25.0      NaN  09/02/96\n",
      "5     6          Ajay  26.0      NaN  28/02/98\n",
      "6     7       Bhawesh  23.0  20000.0    110811\n",
      "7     8           NaN  30.0  80000.0  19981205\n"
     ]
    }
   ],
   "source": [
    "\n",
    "df = pd.read_csv('/home/developer/Desktop/data.csv')\n",
    "# If you have a large DataFrame with many rows, Pandas will only return the first 5 rows, and the last 5 rows\n",
    "print(df)"
   ]
  },
  {
   "cell_type": "code",
   "execution_count": 9,
   "metadata": {},
   "outputs": [
    {
     "name": "stdout",
     "output_type": "stream",
     "text": [
      "   Sno.          Name   Age   Salary       DoB\n",
      "0     1  Ashish Yadav  22.0  15000.0  26/04/02\n",
      "1     2          Anil  23.0  10000.0  20/02/02\n",
      "2     3         Aswan  21.0  20000.0  27/05/02\n",
      "3     4       Harshit   NaN  15000.0       NaN\n",
      "4     5       Sandeep  25.0      NaN  09/02/96\n",
      "5     6          Ajay  26.0      NaN  28/02/98\n",
      "6     7       Bhawesh  23.0  20000.0    110811\n",
      "7     8           NaN  30.0  80000.0  19981205\n"
     ]
    }
   ],
   "source": [
    "print(df.to_string())    # to_string() is used to print the entire DataFrame"
   ]
  },
  {
   "cell_type": "markdown",
   "metadata": {},
   "source": [
    "The number of rows returned is defined in Pandas option settings.\n",
    "You can check your system's maximum rows with the pd.options.display.max_rows statement."
   ]
  },
  {
   "cell_type": "code",
   "execution_count": 10,
   "metadata": {},
   "outputs": [
    {
     "name": "stdout",
     "output_type": "stream",
     "text": [
      "60\n"
     ]
    }
   ],
   "source": [
    "print(pd.options.display.max_rows)\n",
    "pd.options.display.max_rows = 9999"
   ]
  },
  {
   "cell_type": "markdown",
   "metadata": {},
   "source": [
    "# Pandas Read JSON\n",
    "Big data sets are often stored, or extracted as JSON.\n",
    "JSON is plain text, but has the format of an object, and is well known in the world of programming, including Pandas.\n",
    "JSON is equal to the Python Dictionary\n",
    "JSON objects have the same format as Python dictionaries."
   ]
  },
  {
   "cell_type": "code",
   "execution_count": 11,
   "metadata": {},
   "outputs": [],
   "source": [
    "# data = pd.read_json(\"file.json\")\n",
    "# print(data.to_string())"
   ]
  },
  {
   "cell_type": "code",
   "execution_count": 12,
   "metadata": {},
   "outputs": [
    {
     "name": "stdout",
     "output_type": "stream",
     "text": [
      "   Duration  Pulse  Maxpulse  Calories\n",
      "0        60    110       130       409\n",
      "1        60    117       145       479\n",
      "2        60    103       135       340\n",
      "3        45    109       175       282\n",
      "4        45    117       148       406\n",
      "5        60    102       127       300\n"
     ]
    }
   ],
   "source": [
    "json_df = {\n",
    "  \"Duration\":{\"0\":60, \"1\":60, \"2\":60, \"3\":45, \"4\":45, \"5\":60},\n",
    "  \"Pulse\":{\"0\":110, \"1\":117, \"2\":103, \"3\":109, \"4\":117, \"5\":102},\n",
    "  \"Maxpulse\":{\"0\":130, \"1\":145, \"2\":135, \"3\":175, \"4\":148, \"5\":127},\n",
    "  \"Calories\":{\"0\":409, \"1\":479, \"2\":340, \"3\":282, \"4\":406, \"5\":300}\n",
    "}\n",
    "jsondf = pd.DataFrame(json_df)\n",
    "print(jsondf)"
   ]
  },
  {
   "cell_type": "code",
   "execution_count": 13,
   "metadata": {},
   "outputs": [
    {
     "name": "stdout",
     "output_type": "stream",
     "text": [
      "<class 'pandas.core.frame.DataFrame'>\n",
      "RangeIndex: 8 entries, 0 to 7\n",
      "Data columns (total 5 columns):\n",
      " #   Column  Non-Null Count  Dtype  \n",
      "---  ------  --------------  -----  \n",
      " 0   Sno.    8 non-null      int64  \n",
      " 1   Name    7 non-null      object \n",
      " 2   Age     7 non-null      float64\n",
      " 3   Salary  6 non-null      float64\n",
      " 4   DoB     7 non-null      object \n",
      "dtypes: float64(2), int64(1), object(2)\n",
      "memory usage: 448.0+ bytes\n",
      "None\n"
     ]
    }
   ],
   "source": [
    "print(df.info())"
   ]
  },
  {
   "cell_type": "markdown",
   "metadata": {},
   "source": [
    "# Data Cleaning\n",
    "Data cleaning means fixing bad data in your data set.\n",
    "Bad data could be:\n",
    "Empty cells,\n",
    "Data in wrong format,\n",
    "Wrong data,\n",
    "Duplicates,etc."
   ]
  },
  {
   "cell_type": "code",
   "execution_count": 14,
   "metadata": {},
   "outputs": [
    {
     "name": "stdout",
     "output_type": "stream",
     "text": [
      "   Sno.          Name   Age   Salary       DoB\n",
      "0     1  Ashish Yadav  22.0  15000.0  26/04/02\n",
      "1     2          Anil  23.0  10000.0  20/02/02\n",
      "2     3         Aswan  21.0  20000.0  27/05/02\n",
      "6     7       Bhawesh  23.0  20000.0    110811\n",
      "   Sno.          Name   Age   Salary       DoB\n",
      "0     1  Ashish Yadav  22.0  15000.0  26/04/02\n",
      "1     2          Anil  23.0  10000.0  20/02/02\n",
      "2     3         Aswan  21.0  20000.0  27/05/02\n",
      "3     4       Harshit   NaN  15000.0       NaN\n",
      "4     5       Sandeep  25.0      NaN  09/02/96\n",
      "5     6          Ajay  26.0      NaN  28/02/98\n",
      "6     7       Bhawesh  23.0  20000.0    110811\n",
      "7     8           NaN  30.0  80000.0  19981205\n"
     ]
    }
   ],
   "source": [
    "#print(df)\n",
    "new_df = df.dropna()\n",
    "print(new_df)\n",
    "# df['Name'].fillna('?', inplace=True)  # inplace=True modifies the original data file\n",
    "print(df)"
   ]
  },
  {
   "cell_type": "code",
   "execution_count": 15,
   "metadata": {},
   "outputs": [
    {
     "data": {
      "text/html": [
       "<div>\n",
       "<style scoped>\n",
       "    .dataframe tbody tr th:only-of-type {\n",
       "        vertical-align: middle;\n",
       "    }\n",
       "\n",
       "    .dataframe tbody tr th {\n",
       "        vertical-align: top;\n",
       "    }\n",
       "\n",
       "    .dataframe thead th {\n",
       "        text-align: right;\n",
       "    }\n",
       "</style>\n",
       "<table border=\"1\" class=\"dataframe\">\n",
       "  <thead>\n",
       "    <tr style=\"text-align: right;\">\n",
       "      <th></th>\n",
       "      <th>Sno.</th>\n",
       "      <th>Name</th>\n",
       "      <th>Age</th>\n",
       "      <th>Salary</th>\n",
       "      <th>DoB</th>\n",
       "    </tr>\n",
       "  </thead>\n",
       "  <tbody>\n",
       "    <tr>\n",
       "      <th>0</th>\n",
       "      <td>1</td>\n",
       "      <td>Ashish Yadav</td>\n",
       "      <td>22.0</td>\n",
       "      <td>15000.000000</td>\n",
       "      <td>26/04/02</td>\n",
       "    </tr>\n",
       "    <tr>\n",
       "      <th>1</th>\n",
       "      <td>2</td>\n",
       "      <td>Anil</td>\n",
       "      <td>23.0</td>\n",
       "      <td>10000.000000</td>\n",
       "      <td>20/02/02</td>\n",
       "    </tr>\n",
       "    <tr>\n",
       "      <th>2</th>\n",
       "      <td>3</td>\n",
       "      <td>Aswan</td>\n",
       "      <td>21.0</td>\n",
       "      <td>20000.000000</td>\n",
       "      <td>27/05/02</td>\n",
       "    </tr>\n",
       "    <tr>\n",
       "      <th>3</th>\n",
       "      <td>4</td>\n",
       "      <td>Harshit</td>\n",
       "      <td>23.0</td>\n",
       "      <td>15000.000000</td>\n",
       "      <td>NaN</td>\n",
       "    </tr>\n",
       "    <tr>\n",
       "      <th>4</th>\n",
       "      <td>5</td>\n",
       "      <td>Sandeep</td>\n",
       "      <td>25.0</td>\n",
       "      <td>26666.666667</td>\n",
       "      <td>09/02/96</td>\n",
       "    </tr>\n",
       "    <tr>\n",
       "      <th>5</th>\n",
       "      <td>6</td>\n",
       "      <td>Ajay</td>\n",
       "      <td>26.0</td>\n",
       "      <td>26666.666667</td>\n",
       "      <td>28/02/98</td>\n",
       "    </tr>\n",
       "    <tr>\n",
       "      <th>6</th>\n",
       "      <td>7</td>\n",
       "      <td>Bhawesh</td>\n",
       "      <td>23.0</td>\n",
       "      <td>20000.000000</td>\n",
       "      <td>110811</td>\n",
       "    </tr>\n",
       "    <tr>\n",
       "      <th>7</th>\n",
       "      <td>8</td>\n",
       "      <td>NaN</td>\n",
       "      <td>30.0</td>\n",
       "      <td>80000.000000</td>\n",
       "      <td>19981205</td>\n",
       "    </tr>\n",
       "  </tbody>\n",
       "</table>\n",
       "</div>"
      ],
      "text/plain": [
       "   Sno.          Name   Age        Salary       DoB\n",
       "0     1  Ashish Yadav  22.0  15000.000000  26/04/02\n",
       "1     2          Anil  23.0  10000.000000  20/02/02\n",
       "2     3         Aswan  21.0  20000.000000  27/05/02\n",
       "3     4       Harshit  23.0  15000.000000       NaN\n",
       "4     5       Sandeep  25.0  26666.666667  09/02/96\n",
       "5     6          Ajay  26.0  26666.666667  28/02/98\n",
       "6     7       Bhawesh  23.0  20000.000000    110811\n",
       "7     8           NaN  30.0  80000.000000  19981205"
      ]
     },
     "execution_count": 15,
     "metadata": {},
     "output_type": "execute_result"
    }
   ],
   "source": [
    "age_avg = df['Age'].median()\n",
    "df['Age'].fillna(age_avg, inplace=True)\n",
    "salary_avg = df['Salary'].mean()\n",
    "df['Salary'].fillna(salary_avg, inplace=True)\n",
    "df"
   ]
  },
  {
   "cell_type": "markdown",
   "metadata": {},
   "source": [
    "# Pandas - Cleaning Data of Wrong Format\n",
    "Cells with data of wrong format can make it difficult, or even impossible, to analyze data.\n",
    "To fix it, you have two options: remove the rows, or convert all cells in the columns into the same format."
   ]
  },
  {
   "cell_type": "code",
   "execution_count": 16,
   "metadata": {},
   "outputs": [
    {
     "name": "stdout",
     "output_type": "stream",
     "text": [
      "   Sno.          Name   Age        Salary        DoB\n",
      "0     1  Ashish Yadav  22.0  15000.000000 2002-04-26\n",
      "1     2          Anil  23.0  10000.000000 2002-02-20\n",
      "2     3         Aswan  21.0  20000.000000 2002-05-27\n",
      "3     4       Harshit  23.0  15000.000000        NaT\n",
      "4     5       Sandeep  25.0  26666.666667 1996-09-02\n",
      "5     6          Ajay  26.0  26666.666667 1998-02-28\n",
      "6     7       Bhawesh  23.0  20000.000000 2011-11-08\n",
      "7     8           NaN  30.0  80000.000000 1998-12-05\n"
     ]
    },
    {
     "name": "stderr",
     "output_type": "stream",
     "text": [
      "/tmp/ipykernel_15716/1283230671.py:1: UserWarning: Could not infer format, so each element will be parsed individually, falling back to `dateutil`. To ensure parsing is consistent and as-expected, please specify a format.\n",
      "  df['DoB'] = pd.to_datetime(df['DoB'])\n"
     ]
    }
   ],
   "source": [
    "df['DoB'] = pd.to_datetime(df['DoB'])\n",
    "print(df)\n",
    "df.dropna(subset=['DoB'], inplace=True)\n",
    "# print(df)"
   ]
  },
  {
   "cell_type": "code",
   "execution_count": 17,
   "metadata": {},
   "outputs": [
    {
     "name": "stdout",
     "output_type": "stream",
     "text": [
      "    Duration       Date  Pulse  Maxpulse  Calories\n",
      "0         60 2020-12-01    110       130     409.1\n",
      "1         60 2020-12-02    117       145     479.0\n",
      "2         60 2020-12-03    103       135     340.0\n",
      "3         45 2020-12-04    109       175     282.4\n",
      "4         45 2020-12-05    117       148     406.0\n",
      "5         60 2020-12-06    102       127     300.0\n",
      "6         60 2020-12-07    110       136     374.0\n",
      "7        450 2020-12-08    104       134     253.3\n",
      "8         30 2020-12-09    109       133     195.1\n",
      "9         60 2020-12-10     98       124     269.0\n",
      "10        60 2020-12-11    103       147     329.3\n",
      "11        60 2020-12-12    100       120     250.7\n",
      "12        60 2020-12-12    100       120     250.7\n",
      "13        60 2020-12-13    106       128     345.3\n",
      "14        60 2020-12-14    104       132     379.3\n",
      "15        60 2020-12-15     98       123     275.0\n",
      "16        60 2020-12-16     98       120     215.2\n",
      "17        60 2020-12-17    100       120     300.0\n",
      "18        45 2020-12-18     90       112       NaN\n",
      "19        60 2020-12-19    103       123     323.0\n",
      "20        45 2020-12-20     97       125     243.0\n",
      "21        60 2020-12-21    108       131     364.2\n",
      "22        45 2020-12-12    100       119     282.0\n",
      "23        60 2020-12-23    130       101     300.0\n",
      "24        45 2020-12-24    105       132     246.0\n",
      "25        60 2020-12-25    102       126     334.5\n",
      "26        60 2020-12-26    100       120     250.0\n",
      "27        60 2020-12-27     92       118     241.0\n",
      "28        60 2020-12-28    103       132       NaN\n",
      "29        60 2020-12-29    100       132     280.0\n",
      "30        60 2020-12-30    102       129     380.3\n",
      "31        60 2020-12-31     92       115     243.0\n"
     ]
    }
   ],
   "source": [
    "data = pd.read_csv('data.csv')\n",
    "y = data['Date'].mode()\n",
    "data['Date'].fillna(y[0], inplace=True)\n",
    "data['Date'] = pd.to_datetime(data['Date'],format='mixed')\n",
    "print(data)"
   ]
  },
  {
   "cell_type": "markdown",
   "metadata": {},
   "source": [
    "# Pandas - Cleaning Wrong data\n",
    "\"Wrong data\" does not have to be \"empty cells\" or \"wrong format\", it can just be wrong, like if someone registered \"199\" instead of \"1.99\".\n",
    "Sometimes you can spot wrong data by looking at the data set, because you have an expectation of what it should be."
   ]
  },
  {
   "cell_type": "code",
   "execution_count": 18,
   "metadata": {},
   "outputs": [],
   "source": [
    "data.loc[7, 'Duration'] = 45\n",
    "data.loc[22, 'Date'] = y[0]"
   ]
  },
  {
   "cell_type": "code",
   "execution_count": 19,
   "metadata": {},
   "outputs": [
    {
     "name": "stdout",
     "output_type": "stream",
     "text": [
      "<class 'pandas.core.frame.DataFrame'>\n",
      "RangeIndex: 32 entries, 0 to 31\n",
      "Data columns (total 5 columns):\n",
      " #   Column    Non-Null Count  Dtype         \n",
      "---  ------    --------------  -----         \n",
      " 0   Duration  32 non-null     int64         \n",
      " 1   Date      32 non-null     datetime64[ns]\n",
      " 2   Pulse     32 non-null     int64         \n",
      " 3   Maxpulse  32 non-null     int64         \n",
      " 4   Calories  30 non-null     float64       \n",
      "dtypes: datetime64[ns](1), float64(1), int64(3)\n",
      "memory usage: 1.4 KB\n"
     ]
    }
   ],
   "source": [
    "for x in data.index:\n",
    "    if data.loc[x, 'Maxpulse'] > 150:\n",
    "        data.loc[x, 'Maxpulse'] = 150\n",
    "# data\n",
    "data.info()"
   ]
  },
  {
   "cell_type": "code",
   "execution_count": 20,
   "metadata": {},
   "outputs": [],
   "source": [
    "for x in data.index:\n",
    "    if data.loc[x, 'Pulse'] < 100:\n",
    "        data.drop(x, inplace=True)"
   ]
  }
 ],
 "metadata": {
  "kernelspec": {
   "display_name": "Python 3",
   "language": "python",
   "name": "python3"
  },
  "language_info": {
   "codemirror_mode": {
    "name": "ipython",
    "version": 3
   },
   "file_extension": ".py",
   "mimetype": "text/x-python",
   "name": "python",
   "nbconvert_exporter": "python",
   "pygments_lexer": "ipython3",
   "version": "3.8.10"
  }
 },
 "nbformat": 4,
 "nbformat_minor": 2
}
